{
	"metadata": {
		"kernelspec": {
			"name": "glue_pyspark",
			"display_name": "Glue PySpark",
			"language": "python"
		},
		"language_info": {
			"name": "Python_Glue_Session",
			"mimetype": "text/x-python",
			"codemirror_mode": {
				"name": "python",
				"version": 3
			},
			"pygments_lexer": "python3",
			"file_extension": ".py"
		}
	},
	"nbformat_minor": 4,
	"nbformat": 4,
	"cells": [
		{
			"cell_type": "markdown",
			"source": "# AWS Glue Studio Notebook\n##### You are now running a AWS Glue Studio notebook; To start using your notebook you need to start an AWS Glue Interactive Session.\n",
			"metadata": {
				"editable": true,
				"trusted": true
			}
		},
		{
			"cell_type": "markdown",
			"source": "#### Optional: Run this cell to see available notebook commands (\"magics\").\n",
			"metadata": {
				"editable": true,
				"trusted": true
			}
		},
		{
			"cell_type": "code",
			"source": "%help",
			"metadata": {
				"trusted": true,
				"editable": true
			},
			"execution_count": null,
			"outputs": []
		},
		{
			"cell_type": "markdown",
			"source": "####  Run this cell to set up and start your interactive session.\n",
			"metadata": {
				"editable": true,
				"trusted": true
			}
		},
		{
			"cell_type": "code",
			"source": "%idle_timeout 2880\n%glue_version 3.0\n%worker_type G.1X\n%number_of_workers 5\n\nimport sys\nfrom awsglue.transforms import *\nfrom awsglue.utils import getResolvedOptions\nfrom pyspark.context import SparkContext\nfrom awsglue.context import GlueContext\nfrom awsglue.job import Job\n  \nsc = SparkContext.getOrCreate()\nglueContext = GlueContext(sc)\nspark = glueContext.spark_session\njob = Job(glueContext)",
			"metadata": {
				"trusted": true,
				"editable": true
			},
			"execution_count": 1,
			"outputs": [
				{
					"name": "stdout",
					"text": "Not Empty. Output was conciously deleted!",
					"output_type": "stream"
				}
			]
		},
		{
			"cell_type": "markdown",
			"source": "#### Example: Create a DynamicFrame from a table in the AWS Glue Data Catalog and display its schema\n",
			"metadata": {
				"editable": true,
				"trusted": true
			}
		},
		{
			"cell_type": "code",
			"source": "dyf = glueContext.create_dynamic_frame.from_catalog(database='infractions', table_name='parking_ticketsinput')\ndyf.printSchema()",
			"metadata": {
				"trusted": true,
				"editable": true
			},
			"execution_count": 2,
			"outputs": [
				{
					"name": "stdout",
					"text": "root\n|-- tag_number_masked: string\n|-- date_of_infraction: long\n|-- infraction_code: long\n|-- infraction_description: string\n|-- set_fine_amount: long\n|-- time_of_infraction: long\n|-- location1: string\n|-- location2: string\n|-- location3: string\n|-- location4: string\n|-- province: string\n",
					"output_type": "stream"
				}
			]
		},
		{
			"cell_type": "markdown",
			"source": "#### Example: Convert the DynamicFrame to a Spark DataFrame and display a sample of the data\n",
			"metadata": {
				"editable": true,
				"trusted": true
			}
		},
		{
			"cell_type": "code",
			"source": "df = dyf.toDF()\n\ntype(df)",
			"metadata": {
				"trusted": true,
				"editable": true
			},
			"execution_count": 3,
			"outputs": [
				{
					"name": "stdout",
					"text": "<class 'pyspark.sql.dataframe.DataFrame'>\n",
					"output_type": "stream"
				}
			]
		},
		{
			"cell_type": "code",
			"source": "df.show()",
			"metadata": {
				"trusted": true,
				"tags": []
			},
			"execution_count": 4,
			"outputs": [
				{
					"name": "stdout",
					"text": "+-----------------+------------------+---------------+----------------------+---------------+------------------+---------+-----------------+---------+-------------+--------+\n|tag_number_masked|date_of_infraction|infraction_code|infraction_description|set_fine_amount|time_of_infraction|location1|        location2|location3|    location4|province|\n+-----------------+------------------+---------------+----------------------+---------------+------------------+---------+-----------------+---------+-------------+--------+\n|         ***92517|          20180101|             16|  PARK-WITHIN 9M IN...|             50|                 0|      S/S|        PRYOR AVE|      E/O|CLOVERDALE RD|      ON|\n|         ***71708|          20180101|             29|  PARK PROHIBITED T...|             30|                 2|       NR|266 DOVERCOURT RD|         |             |      ON|\n|         ***92311|          20180101|             29|  PARK PROHIBITED T...|             30|                 2|       NR|  15 FAIRBANK AVE|         |             |      ON|\n|         ***92312|          20180101|             29|  PARK PROHIBITED T...|             30|                 2|       NR|  15 FAIRBANK AVE|         |             |      ON|\n|         ***71709|          20180101|             29|  PARK PROHIBITED T...|             30|                 3|       NR|266 DOVERCOURT RD|         |             |      ON|\n|         ***73023|          20180101|              3|  PARK ON PRIVATE P...|             30|                 3|       AT|   735 COLLEGE ST|         |             |      ON|\n|         ***73024|          20180101|              3|  PARK ON PRIVATE P...|             30|                 3|       AT|   735 COLLEGE ST|         |             |      ON|\n|         ***92313|          20180101|             29|  PARK PROHIBITED T...|             30|                 3|       NR|  15 FAIRBANK AVE|         |             |      ON|\n|         ***71710|          20180101|             29|  PARK PROHIBITED T...|             30|                 4|       NR|262 DOVERCOURT RD|         |             |      ON|\n|         ***73025|          20180101|              3|  PARK ON PRIVATE P...|             30|                 4|       AT|   735 COLLEGE ST|         |             |      ON|\n|         ***73026|          20180101|              3|  PARK ON PRIVATE P...|             30|                 4|       AT|   735 COLLEGE ST|         |             |      ON|\n|         ***71711|          20180101|             29|  PARK PROHIBITED T...|             30|                 5|       NR|266 DOVERCOURT RD|         |             |      ON|\n|         ***71712|          20180101|             29|  PARK PROHIBITED T...|             30|                 5|       NR|234 DOVERCOURT RD|         |             |      ON|\n|         ***73027|          20180101|              3|  PARK ON PRIVATE P...|             30|                 5|       AT|   735 COLLEGE ST|         |             |      ON|\n|         ***71713|          20180101|             29|  PARK PROHIBITED T...|             30|                 6|       NR|234 DOVERCOURT RD|         |             |      ON|\n|         ***92314|          20180101|             29|  PARK PROHIBITED T...|             30|                 6|      W/S|      MIRANDA AVE|      N/O|    BOWIE AVE|      ON|\n|         ***71714|          20180101|             29|  PARK PROHIBITED T...|             30|                 7|       NR|234 DOVERCOURT RD|         |             |      ON|\n|         ***71715|          20180101|             29|  PARK PROHIBITED T...|             30|                 8|       NR|234 DOVERCOURT RD|         |             |      ON|\n|         ***71716|          20180101|              9|  STOP-SIGNED HWY-P...|             60|                 8|       NR|220 DOVERCOURT RD|         |             |      ON|\n|         ***71717|          20180101|              9|  STOP-SIGNED HWY-P...|             60|                 9|       NR|220 DOVERCOURT RD|         |             |      ON|\n+-----------------+------------------+---------------+----------------------+---------------+------------------+---------+-----------------+---------+-------------+--------+\nonly showing top 20 rows\n",
					"output_type": "stream"
				}
			]
		},
		{
			"cell_type": "markdown",
			"source": "#### Example: Visualize data with matplotlib\n",
			"metadata": {
				"editable": true,
				"trusted": true
			}
		},
		{
			"cell_type": "code",
			"source": "df_new = (\n    df.select(\"tag_number_masked\", \"date_of_infraction\", \"infraction_code\", \"infraction_description\", \"set_fine_amount\", \"time_of_infraction\")\n)\n\ndf_new.dtypes",
			"metadata": {
				"trusted": true,
				"tags": []
			},
			"execution_count": 5,
			"outputs": [
				{
					"name": "stdout",
					"text": "[('tag_number_masked', 'string'), ('date_of_infraction', 'bigint'), ('infraction_code', 'bigint'), ('infraction_description', 'string'), ('set_fine_amount', 'bigint'), ('time_of_infraction', 'bigint')]\n",
					"output_type": "stream"
				}
			]
		},
		{
			"cell_type": "code",
			"source": "type(df_new)",
			"metadata": {
				"trusted": true,
				"tags": []
			},
			"execution_count": 6,
			"outputs": [
				{
					"name": "stdout",
					"text": "<class 'pyspark.sql.dataframe.DataFrame'>\n",
					"output_type": "stream"
				}
			]
		},
		{
			"cell_type": "code",
			"source": "df_new.show()",
			"metadata": {
				"trusted": true,
				"tags": []
			},
			"execution_count": 7,
			"outputs": [
				{
					"name": "stdout",
					"text": "+-----------------+------------------+---------------+----------------------+---------------+------------------+\n|tag_number_masked|date_of_infraction|infraction_code|infraction_description|set_fine_amount|time_of_infraction|\n+-----------------+------------------+---------------+----------------------+---------------+------------------+\n|         ***92517|          20180101|             16|  PARK-WITHIN 9M IN...|             50|                 0|\n|         ***71708|          20180101|             29|  PARK PROHIBITED T...|             30|                 2|\n|         ***92311|          20180101|             29|  PARK PROHIBITED T...|             30|                 2|\n|         ***92312|          20180101|             29|  PARK PROHIBITED T...|             30|                 2|\n|         ***71709|          20180101|             29|  PARK PROHIBITED T...|             30|                 3|\n|         ***73023|          20180101|              3|  PARK ON PRIVATE P...|             30|                 3|\n|         ***73024|          20180101|              3|  PARK ON PRIVATE P...|             30|                 3|\n|         ***92313|          20180101|             29|  PARK PROHIBITED T...|             30|                 3|\n|         ***71710|          20180101|             29|  PARK PROHIBITED T...|             30|                 4|\n|         ***73025|          20180101|              3|  PARK ON PRIVATE P...|             30|                 4|\n|         ***73026|          20180101|              3|  PARK ON PRIVATE P...|             30|                 4|\n|         ***71711|          20180101|             29|  PARK PROHIBITED T...|             30|                 5|\n|         ***71712|          20180101|             29|  PARK PROHIBITED T...|             30|                 5|\n|         ***73027|          20180101|              3|  PARK ON PRIVATE P...|             30|                 5|\n|         ***71713|          20180101|             29|  PARK PROHIBITED T...|             30|                 6|\n|         ***92314|          20180101|             29|  PARK PROHIBITED T...|             30|                 6|\n|         ***71714|          20180101|             29|  PARK PROHIBITED T...|             30|                 7|\n|         ***71715|          20180101|             29|  PARK PROHIBITED T...|             30|                 8|\n|         ***71716|          20180101|              9|  STOP-SIGNED HWY-P...|             60|                 8|\n|         ***71717|          20180101|              9|  STOP-SIGNED HWY-P...|             60|                 9|\n+-----------------+------------------+---------------+----------------------+---------------+------------------+\nonly showing top 20 rows\n",
					"output_type": "stream"
				}
			]
		},
		{
			"cell_type": "code",
			"source": "from awsglue.dynamicframe import DynamicFrame",
			"metadata": {
				"trusted": true,
				"tags": []
			},
			"execution_count": 9,
			"outputs": [
				{
					"name": "stdout",
					"text": "\n",
					"output_type": "stream"
				}
			]
		},
		{
			"cell_type": "code",
			"source": "dyF_clean = DynamicFrame.fromDF(df_new, glueContext, \"tickets_clean_dyf\")",
			"metadata": {
				"trusted": true,
				"tags": []
			},
			"execution_count": 10,
			"outputs": [
				{
					"name": "stdout",
					"text": "\n",
					"output_type": "stream"
				}
			]
		},
		{
			"cell_type": "code",
			"source": "s3output = glueContext.getSink(\n  path=\"s3://<BUCKET_NAME>/parking_tickets/output/\",\n  connection_type=\"s3\",\n  updateBehavior=\"UPDATE_IN_DATABASE\",\n  partitionKeys=[],\n  compression=\"snappy\",\n  enableUpdateCatalog=True,\n  transformation_ctx=\"s3output\",\n)\ns3output.setCatalogInfo(\n  catalogDatabase=\"infractions\", catalogTableName=\"clean_tickets\"\n)\ns3output.setFormat(\"glueparquet\")\ns3output.writeFrame(dyF_clean)",
			"metadata": {
				"trusted": true,
				"tags": []
			},
			"execution_count": 15,
			"outputs": [
				{
					"name": "stdout",
					"text": "<awsglue.dynamicframe.DynamicFrame object at 0x7f9907354610>\n",
					"output_type": "stream"
				}
			]
		},
		{
			"cell_type": "markdown",
			"source": "#### Example: Write the data in the DynamicFrame to a location in Amazon S3 and a table for it in the AWS Glue Data Catalog\n",
			"metadata": {
				"editable": true,
				"trusted": true
			}
		},
		{
			"cell_type": "code",
			"source": "s3output = glueContext.getSink(\n  path=\"s3://<BUCKET_NAME>/folder_name\",\n  connection_type=\"s3\",\n  updateBehavior=\"UPDATE_IN_DATABASE\",\n  partitionKeys=[],\n  compression=\"snappy\",\n  enableUpdateCatalog=True,\n  transformation_ctx=\"s3output\",\n)\ns3output.setCatalogInfo(\n  catalogDatabase=\"demo\", catalogTableName=\"populations\"\n)\ns3output.setFormat(\"glueparquet\")\ns3output.writeFrame(DyF)",
			"metadata": {
				"trusted": true,
				"editable": true
			},
			"execution_count": null,
			"outputs": []
		}
	]
}
